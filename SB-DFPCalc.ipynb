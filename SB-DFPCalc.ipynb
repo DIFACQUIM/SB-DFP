{
 "cells": [
  {
   "cell_type": "markdown",
   "metadata": {},
   "source": [
    "## Importing libraries"
   ]
  },
  {
   "cell_type": "code",
   "execution_count": 1,
   "metadata": {},
   "outputs": [],
   "source": [
    "from sys import argv\n",
    "import pandas as pd\n",
    "from rdkit import Chem\n",
    "from rdkit.Chem import AllChem\n",
    "from rdkit import DataStructs\n",
    "from rdkit.Chem import MACCSkeys\n",
    "from rdkit.Chem import PandasTools\n",
    "from statsmodels.stats.proportion import proportions_ztest"
   ]
  },
  {
   "cell_type": "markdown",
   "metadata": {},
   "source": [
    "## Definig functions"
   ]
  },
  {
   "cell_type": "code",
   "execution_count": 2,
   "metadata": {},
   "outputs": [],
   "source": [
    "def LoadDatasetFromCSV(CSV, ecfp4=True, maccs=True, label=\"ACTIVE\"):\n",
    "# This function requires a CSV file with the first two columns identified as ID and SMILES, additional columns will be ignored\n",
    "# The file is loaded as a dataframe and by default both fingerprints, MACCS-166 and ECFP4-2048 are calculated and added as columns\n",
    "# The last column is added as a label, which by default is \"ACTIVE\"\n",
    "    Dataset = pd.read_csv(CSV, usecols=[1])\n",
    "    if ecfp4 == True:\n",
    "        ECFP4FP = [AllChem.GetMorganFingerprintAsBitVect(Chem.MolFromSmiles(row.SMILES),2,nBits=2048) for index, row in Dataset.iterrows()]\n",
    "        Dataset[\"ECFP4FP\"] = ECFP4FP\n",
    "    if maccs == True:\n",
    "        MACCSFP = [MACCSkeys.GenMACCSKeys(Chem.MolFromSmiles(row.SMILES)) for index, row in Dataset.iterrows()]\n",
    "        Dataset[\"MACCSFP\"] = MACCSFP\n",
    "    LABEL = [label for index, row in Dataset.iterrows()]\n",
    "    Dataset[\"LABEL\"] = LABEL\n",
    "    return Dataset\n",
    "\n",
    "def DFP_Calc(DF, FP=\"ECFP4\", FORMAT=\"RDKit\"):\n",
    "# This function requires a dataframe with a column identified as \"ECFP4FP\" or \"MACCSFP\" containing the respective fingerprints as RDKit objects\n",
    "# The input dataframe can be taken from the LoadDatasetFromCSV function\n",
    "# FP = \"ECFP4\" or \"MACCS\" according to the respective DFP\n",
    "# FORMAT = \"RDKit\" or \"TEXT\" according to the output format, RDKit object or TEXT string\n",
    "    \n",
    "    if FP == \"ECFP4\":\n",
    "        FPSTEXT = [DataStructs.BitVectToText(row.ECFP4FP) for index, row in DF.iterrows()]\n",
    "        DF_COUNTS = [0 for i in range(len(FPSTEXT[0]))]\n",
    "        for i in FPSTEXT:\n",
    "            b = [int(j) for j in i]\n",
    "            DF_COUNTS = [x + y for x, y in zip(DF_COUNTS, b)]\n",
    "        DF_PROPORTIONS = [float(x)/DF.shape[0] for x in DF_COUNTS]\n",
    "        DFP = []\n",
    "        for i in range(0, len(DF_PROPORTIONS)):\n",
    "            if DF_PROPORTIONS[i] > 0.5:\n",
    "                DFP.append(1)\n",
    "            else:\n",
    "                DFP.append(0)\n",
    "        DFP = [str(i) for i in DFP]\n",
    "        DFP = \"\".join(DFP)\n",
    "        DFP_RDKIT = DataStructs.CreateFromBitString(DFP)\n",
    "    elif FP == \"MACCS\":\n",
    "        FPSTEXT = [DataStructs.BitVectToText(row.MACCSFP) for index, row in DF.iterrows()]\n",
    "        DF_COUNTS = [0 for i in range(len(FPSTEXT[0]))]\n",
    "        for i in FPSTEXT:\n",
    "            b = [int(j) for j in i]\n",
    "            DF_COUNTS = [x + y for x, y in zip(DF_COUNTS, b)]\n",
    "        DF_PROPORTIONS = [float(x)/DF.shape[0] for x in DF_COUNTS]\n",
    "        DFP = []\n",
    "        for i in range(0, len(DF_PROPORTIONS)):\n",
    "            if DF_PROPORTIONS[i] > 0.5:\n",
    "                DFP.append(1)\n",
    "            else:\n",
    "                DFP.append(0)\n",
    "        DFP = [str(i) for i in DFP]\n",
    "        DFP = \"\".join(DFP)\n",
    "        DFP_RDKIT = DataStructs.CreateFromBitString(DFP)\n",
    "    if FORMAT == \"RDKit\":\n",
    "        return DFP_RDKIT\n",
    "    elif FORMAT == \"TEXT\":\n",
    "        return DFP\n",
    "\n",
    "def SBDFP_Calc(DF, FP=\"ECFP4\", FORMAT=\"RDKit\"):\n",
    "# This function requires a dataframe with a column identified as \"ECFP4FP\" or \"MACCSFP\" containing the respective fingerprints as RDKit objects\n",
    "# The function also requires the files ECFP4.counts or MACCS.counts that contain the \"1\" Bit counts for the respective fingerprints\n",
    "# The input dataframe can be taken from the LoadDatasetFromCSV function\n",
    "# FP = \"ECFP4\" or \"MACCS\" according to the respective SB-DFP\n",
    "# FORMAT = \"RDKit\" or \"TEXT\" according to the output format, RDKit object or TEXT string\n",
    "\n",
    "    if FP == \"ECFP4\":\n",
    "        FPSTEXT = [DataStructs.BitVectToText(row.ECFP4FP) for index, row in DF.iterrows()]\n",
    "        DF_COUNTS = [0 for i in range(len(FPSTEXT[0]))]\n",
    "        for i in FPSTEXT:\n",
    "            b = [int(j) for j in i]\n",
    "            DF_COUNTS = [x + y for x, y in zip(DF_COUNTS, b)]\n",
    "        REF = open(\"ECFP4.counts\")\n",
    "        line = REF.readline()\n",
    "        a = line.split(\",\")\n",
    "        REF_COUNTS = [int(x) for x in a]\n",
    "        SBDFP = []\n",
    "        for i in range(len(REF_COUNTS)):\n",
    "            stat, pval = proportions_ztest([REF_COUNTS[i], DF_COUNTS[i]], [15403690,DF.shape[0]], alternative='smaller')\n",
    "            if pval < 0.01:\n",
    "                SBDFP.append(1)\n",
    "            else:\n",
    "                SBDFP.append(0)\n",
    "        SBDFP = [str(x) for x in SBDFP]\n",
    "        SBDFP = \"\".join(SBDFP)\n",
    "        SBDFP_RDKIT = DataStructs.CreateFromBitString(SBDFP)\n",
    "    \n",
    "    elif FP == \"MACCS\":\n",
    "        FPSTEXT = [DataStructs.BitVectToText(row.MACCSFP) for index, row in DF.iterrows()]\n",
    "        DF_COUNTS = [0 for i in range(len(FPSTEXT[0]))]\n",
    "        for i in FPSTEXT:\n",
    "            b = [int(j) for j in i]\n",
    "            DF_COUNTS = [x + y for x, y in zip(DF_COUNTS, b)]\n",
    "        REF = open(\"MACCS.counts\")\n",
    "        line = REF.readline()\n",
    "        a = line.split(\",\")\n",
    "        REF_COUNTS = [int(x) for x in a]\n",
    "        SBDFP = []\n",
    "        for i in range(len(REF_COUNTS)):\n",
    "            stat, pval = proportions_ztest([REF_COUNTS[i], DF_COUNTS[i]], [15403690,DF.shape[0]], alternative='smaller')\n",
    "            if pval < 0.01:\n",
    "                SBDFP.append(1)\n",
    "            else:\n",
    "                SBDFP.append(0)\n",
    "        SBDFP = [str(x) for x in SBDFP]\n",
    "        SBDFP = \"\".join(SBDFP)\n",
    "        SBDFP_RDKIT = DataStructs.CreateFromBitString(SBDFP)\n",
    "    if FORMAT == \"RDKit\":\n",
    "        return SBDFP_RDKIT\n",
    "    elif FORMAT == \"TEXT\":\n",
    "        return SBDFP"
   ]
  },
  {
   "cell_type": "markdown",
   "metadata": {},
   "source": [
    "## Examples\n",
    "For using the function, the following files are needed: MACCS.counts and ECFP4.counts.\n",
    "For the execution of the scrip DNMT1.csv is also needed as example.\n",
    "All of them are available in the GitHub repository."
   ]
  },
  {
   "cell_type": "code",
   "execution_count": 10,
   "metadata": {},
   "outputs": [
    {
     "data": {
      "text/html": [
       "<div>\n",
       "<style scoped>\n",
       "    .dataframe tbody tr th:only-of-type {\n",
       "        vertical-align: middle;\n",
       "    }\n",
       "\n",
       "    .dataframe tbody tr th {\n",
       "        vertical-align: top;\n",
       "    }\n",
       "\n",
       "    .dataframe thead th {\n",
       "        text-align: right;\n",
       "    }\n",
       "</style>\n",
       "<table border=\"1\" class=\"dataframe\">\n",
       "  <thead>\n",
       "    <tr style=\"text-align: right;\">\n",
       "      <th></th>\n",
       "      <th>SMILES</th>\n",
       "      <th>ECFP4FP</th>\n",
       "      <th>MACCSFP</th>\n",
       "      <th>LABEL</th>\n",
       "    </tr>\n",
       "  </thead>\n",
       "  <tbody>\n",
       "    <tr>\n",
       "      <th>SBSM154331</th>\n",
       "      <td>S1(C(=NC2(=C1C=CC=C2))C(=CC4(=CC([N+](=O)[O-])=C(N(C3(=CC=CC=C3))C)C=C4))CCC(=O)O)</td>\n",
       "      <td>[0, 0, 0, 0, 0, 0, 0, 0, 0, 0, 0, 0, 0, 0, 0, 0, 0, 0, 0, 0, 0, 0, 0, 0, 0, 1, 0, 0, 0, 0, 0, 0, 0, 0, 0, 0, 0, 0, 0, 0, 0, 0, 0, 0, 0, 0, 1, 0, 0, 0, 0, 0, 0, 0, 0, 0, 0, 0, 0, 0, 0, 0, 0, 0, 0, 0, 0, 0, 0, 0, 0, 0, 0, 0, 0, 0, 0, 0, 0, 0, 1, 0, 0, 0, 0, 0, 0, 0, 0, 0, 0, 0, 0, 0, 0, 0, 0, 0, 0, 0, ...]</td>\n",
       "      <td>[0, 0, 0, 0, 0, 0, 0, 0, 0, 0, 0, 0, 0, 0, 0, 0, 0, 0, 0, 0, 0, 0, 0, 0, 1, 0, 0, 0, 0, 0, 0, 0, 0, 0, 0, 0, 1, 0, 0, 0, 0, 0, 0, 0, 0, 0, 0, 1, 0, 1, 1, 0, 0, 0, 0, 0, 1, 0, 0, 0, 0, 0, 0, 1, 0, 1, 0, 0, 0, 0, 1, 1, 0, 0, 0, 0, 1, 0, 0, 1, 0, 1, 0, 1, 0, 1, 0, 0, 1, 0, 1, 0, 0, 1, 1, 0, 1, 1, 0, 1, ...]</td>\n",
       "      <td>ACTIVE</td>\n",
       "    </tr>\n",
       "    <tr>\n",
       "      <th>SBSM142655</th>\n",
       "      <td>S(CC1(=C(OC)C=CC(=C1)C(=O)C=CC3(=CC=C(C2(=CC=CC=C2))C=C3)))CC(=O)O</td>\n",
       "      <td>[0, 0, 0, 0, 0, 0, 0, 0, 0, 0, 0, 0, 1, 0, 0, 0, 0, 0, 0, 0, 0, 0, 0, 0, 0, 1, 0, 0, 0, 0, 0, 1, 0, 0, 0, 0, 0, 0, 0, 0, 0, 0, 0, 0, 0, 0, 0, 0, 0, 0, 0, 0, 0, 0, 0, 0, 0, 0, 0, 0, 0, 0, 0, 0, 0, 0, 0, 0, 0, 0, 0, 0, 0, 0, 0, 0, 0, 0, 0, 0, 1, 0, 0, 0, 0, 0, 0, 0, 0, 0, 0, 0, 0, 0, 1, 0, 0, 0, 0, 0, ...]</td>\n",
       "      <td>[0, 0, 0, 0, 0, 0, 0, 0, 0, 0, 0, 0, 0, 0, 0, 0, 0, 0, 0, 0, 0, 0, 0, 0, 0, 0, 0, 0, 0, 0, 0, 0, 0, 0, 0, 0, 0, 0, 0, 0, 0, 0, 0, 0, 0, 0, 0, 0, 0, 0, 0, 0, 0, 0, 0, 0, 0, 0, 0, 0, 0, 0, 1, 0, 0, 0, 0, 0, 0, 0, 0, 0, 0, 0, 0, 0, 0, 0, 0, 0, 0, 0, 0, 0, 0, 0, 1, 0, 1, 0, 0, 1, 0, 1, 0, 0, 0, 0, 0, 1, ...]</td>\n",
       "      <td>ACTIVE</td>\n",
       "    </tr>\n",
       "    <tr>\n",
       "      <th>SBSM22553</th>\n",
       "      <td>S(C(C2(=CC=C(C1(=CC=CC=C1))C=C2))(C3(=CC=CC=C3))C4(=CC=CC=C4))CC(N)C(=O)O</td>\n",
       "      <td>[0, 1, 0, 0, 0, 0, 0, 0, 0, 0, 0, 0, 0, 0, 0, 0, 0, 0, 0, 0, 0, 0, 0, 0, 0, 0, 0, 0, 0, 0, 0, 0, 0, 0, 0, 0, 0, 0, 0, 0, 0, 0, 0, 0, 0, 0, 0, 0, 0, 0, 0, 0, 0, 0, 0, 0, 0, 0, 0, 0, 0, 0, 0, 0, 0, 0, 0, 0, 0, 0, 0, 0, 0, 0, 0, 0, 0, 0, 0, 0, 1, 0, 0, 1, 0, 0, 0, 0, 0, 0, 0, 0, 0, 0, 0, 0, 0, 0, 0, 0, ...]</td>\n",
       "      <td>[0, 0, 0, 0, 0, 0, 0, 0, 0, 0, 0, 0, 0, 0, 0, 0, 0, 0, 0, 0, 0, 0, 0, 0, 0, 0, 0, 0, 0, 0, 0, 0, 0, 0, 0, 0, 0, 0, 0, 0, 0, 0, 0, 0, 0, 0, 0, 0, 0, 0, 0, 0, 0, 0, 1, 0, 0, 0, 0, 0, 0, 0, 1, 0, 0, 0, 1, 0, 0, 0, 0, 0, 0, 0, 0, 0, 0, 0, 0, 0, 0, 1, 0, 0, 1, 0, 0, 0, 1, 0, 1, 0, 0, 0, 0, 1, 0, 0, 0, 0, ...]</td>\n",
       "      <td>ACTIVE</td>\n",
       "    </tr>\n",
       "    <tr>\n",
       "      <th>SBSM122239</th>\n",
       "      <td>S(=O)(=O)(NC2(=CC=C(C(=O)OCC(=O)NCC=1(OC=CC=1))C=C2))C=3(SC=CC=3)</td>\n",
       "      <td>[0, 0, 0, 0, 0, 0, 0, 0, 0, 0, 0, 0, 0, 0, 1, 0, 0, 0, 0, 0, 0, 0, 0, 0, 0, 0, 0, 0, 0, 0, 0, 0, 0, 0, 0, 0, 0, 0, 0, 0, 0, 1, 0, 0, 0, 0, 0, 0, 0, 0, 0, 0, 0, 0, 0, 0, 0, 0, 0, 0, 0, 0, 0, 0, 0, 0, 0, 0, 0, 0, 0, 0, 0, 0, 0, 0, 0, 0, 0, 0, 1, 0, 0, 0, 0, 0, 0, 0, 0, 0, 0, 0, 0, 0, 0, 0, 0, 0, 0, 0, ...]</td>\n",
       "      <td>[0, 0, 0, 0, 0, 0, 0, 0, 0, 0, 0, 0, 0, 0, 0, 0, 0, 0, 0, 0, 0, 0, 0, 0, 0, 0, 0, 0, 0, 0, 0, 0, 1, 1, 0, 0, 1, 0, 0, 0, 0, 0, 0, 0, 0, 0, 0, 0, 0, 0, 0, 1, 0, 0, 0, 1, 0, 1, 1, 1, 1, 1, 0, 0, 1, 0, 0, 1, 0, 1, 0, 0, 1, 1, 0, 0, 0, 0, 0, 0, 0, 1, 1, 1, 0, 0, 0, 0, 1, 0, 0, 0, 1, 0, 1, 1, 1, 0, 0, 0, ...]</td>\n",
       "      <td>ACTIVE</td>\n",
       "    </tr>\n",
       "    <tr>\n",
       "      <th>SBSM19046</th>\n",
       "      <td>S(=O)(=O)(NC1(=NC(=CC=N1)C))C3(=CC=C(NC(=O)CC=2(SC=CC=2))C=C3)</td>\n",
       "      <td>[0, 0, 0, 0, 1, 0, 0, 0, 0, 0, 0, 0, 0, 0, 1, 0, 0, 0, 0, 0, 0, 0, 0, 0, 0, 0, 0, 0, 0, 0, 0, 0, 0, 0, 0, 0, 0, 0, 0, 0, 0, 1, 0, 0, 0, 0, 0, 0, 0, 0, 0, 0, 0, 0, 0, 0, 0, 0, 0, 0, 0, 0, 0, 0, 0, 0, 0, 0, 0, 0, 0, 0, 0, 0, 0, 0, 0, 0, 0, 0, 1, 0, 0, 0, 0, 0, 0, 0, 0, 0, 0, 0, 0, 0, 0, 0, 0, 0, 0, 0, ...]</td>\n",
       "      <td>[0, 0, 0, 0, 0, 0, 0, 0, 0, 0, 0, 0, 0, 0, 0, 0, 0, 0, 0, 0, 0, 0, 0, 0, 0, 1, 0, 0, 0, 0, 0, 0, 1, 1, 0, 0, 1, 0, 0, 0, 0, 0, 0, 0, 0, 0, 0, 0, 0, 0, 0, 1, 0, 0, 0, 1, 0, 0, 1, 1, 1, 1, 0, 0, 1, 1, 0, 1, 0, 1, 0, 0, 0, 1, 0, 0, 0, 1, 0, 0, 1, 1, 0, 1, 0, 0, 0, 0, 1, 0, 0, 0, 1, 0, 1, 0, 1, 1, 1, 0, ...]</td>\n",
       "      <td>ACTIVE</td>\n",
       "    </tr>\n",
       "  </tbody>\n",
       "</table>\n",
       "</div>"
      ],
      "text/plain": [
       "                                                                                        SMILES                                                                                                                                                                                                                                                                                                            ECFP4FP                                                                                                                                                                                                                                                                                                            MACCSFP   LABEL\n",
       "SBSM154331  S1(C(=NC2(=C1C=CC=C2))C(=CC4(=CC([N+](=O)[O-])=C(N(C3(=CC=CC=C3))C)C=C4))CCC(=O)O)  [0, 0, 0, 0, 0, 0, 0, 0, 0, 0, 0, 0, 0, 0, 0, 0, 0, 0, 0, 0, 0, 0, 0, 0, 0, 1, 0, 0, 0, 0, 0, 0, 0, 0, 0, 0, 0, 0, 0, 0, 0, 0, 0, 0, 0, 0, 1, 0, 0, 0, 0, 0, 0, 0, 0, 0, 0, 0, 0, 0, 0, 0, 0, 0, 0, 0, 0, 0, 0, 0, 0, 0, 0, 0, 0, 0, 0, 0, 0, 0, 1, 0, 0, 0, 0, 0, 0, 0, 0, 0, 0, 0, 0, 0, 0, 0, 0, 0, 0, 0, ...]  [0, 0, 0, 0, 0, 0, 0, 0, 0, 0, 0, 0, 0, 0, 0, 0, 0, 0, 0, 0, 0, 0, 0, 0, 1, 0, 0, 0, 0, 0, 0, 0, 0, 0, 0, 0, 1, 0, 0, 0, 0, 0, 0, 0, 0, 0, 0, 1, 0, 1, 1, 0, 0, 0, 0, 0, 1, 0, 0, 0, 0, 0, 0, 1, 0, 1, 0, 0, 0, 0, 1, 1, 0, 0, 0, 0, 1, 0, 0, 1, 0, 1, 0, 1, 0, 1, 0, 0, 1, 0, 1, 0, 0, 1, 1, 0, 1, 1, 0, 1, ...]  ACTIVE\n",
       "SBSM142655                  S(CC1(=C(OC)C=CC(=C1)C(=O)C=CC3(=CC=C(C2(=CC=CC=C2))C=C3)))CC(=O)O  [0, 0, 0, 0, 0, 0, 0, 0, 0, 0, 0, 0, 1, 0, 0, 0, 0, 0, 0, 0, 0, 0, 0, 0, 0, 1, 0, 0, 0, 0, 0, 1, 0, 0, 0, 0, 0, 0, 0, 0, 0, 0, 0, 0, 0, 0, 0, 0, 0, 0, 0, 0, 0, 0, 0, 0, 0, 0, 0, 0, 0, 0, 0, 0, 0, 0, 0, 0, 0, 0, 0, 0, 0, 0, 0, 0, 0, 0, 0, 0, 1, 0, 0, 0, 0, 0, 0, 0, 0, 0, 0, 0, 0, 0, 1, 0, 0, 0, 0, 0, ...]  [0, 0, 0, 0, 0, 0, 0, 0, 0, 0, 0, 0, 0, 0, 0, 0, 0, 0, 0, 0, 0, 0, 0, 0, 0, 0, 0, 0, 0, 0, 0, 0, 0, 0, 0, 0, 0, 0, 0, 0, 0, 0, 0, 0, 0, 0, 0, 0, 0, 0, 0, 0, 0, 0, 0, 0, 0, 0, 0, 0, 0, 0, 1, 0, 0, 0, 0, 0, 0, 0, 0, 0, 0, 0, 0, 0, 0, 0, 0, 0, 0, 0, 0, 0, 0, 0, 1, 0, 1, 0, 0, 1, 0, 1, 0, 0, 0, 0, 0, 1, ...]  ACTIVE\n",
       "SBSM22553            S(C(C2(=CC=C(C1(=CC=CC=C1))C=C2))(C3(=CC=CC=C3))C4(=CC=CC=C4))CC(N)C(=O)O  [0, 1, 0, 0, 0, 0, 0, 0, 0, 0, 0, 0, 0, 0, 0, 0, 0, 0, 0, 0, 0, 0, 0, 0, 0, 0, 0, 0, 0, 0, 0, 0, 0, 0, 0, 0, 0, 0, 0, 0, 0, 0, 0, 0, 0, 0, 0, 0, 0, 0, 0, 0, 0, 0, 0, 0, 0, 0, 0, 0, 0, 0, 0, 0, 0, 0, 0, 0, 0, 0, 0, 0, 0, 0, 0, 0, 0, 0, 0, 0, 1, 0, 0, 1, 0, 0, 0, 0, 0, 0, 0, 0, 0, 0, 0, 0, 0, 0, 0, 0, ...]  [0, 0, 0, 0, 0, 0, 0, 0, 0, 0, 0, 0, 0, 0, 0, 0, 0, 0, 0, 0, 0, 0, 0, 0, 0, 0, 0, 0, 0, 0, 0, 0, 0, 0, 0, 0, 0, 0, 0, 0, 0, 0, 0, 0, 0, 0, 0, 0, 0, 0, 0, 0, 0, 0, 1, 0, 0, 0, 0, 0, 0, 0, 1, 0, 0, 0, 1, 0, 0, 0, 0, 0, 0, 0, 0, 0, 0, 0, 0, 0, 0, 1, 0, 0, 1, 0, 0, 0, 1, 0, 1, 0, 0, 0, 0, 1, 0, 0, 0, 0, ...]  ACTIVE\n",
       "SBSM122239                   S(=O)(=O)(NC2(=CC=C(C(=O)OCC(=O)NCC=1(OC=CC=1))C=C2))C=3(SC=CC=3)  [0, 0, 0, 0, 0, 0, 0, 0, 0, 0, 0, 0, 0, 0, 1, 0, 0, 0, 0, 0, 0, 0, 0, 0, 0, 0, 0, 0, 0, 0, 0, 0, 0, 0, 0, 0, 0, 0, 0, 0, 0, 1, 0, 0, 0, 0, 0, 0, 0, 0, 0, 0, 0, 0, 0, 0, 0, 0, 0, 0, 0, 0, 0, 0, 0, 0, 0, 0, 0, 0, 0, 0, 0, 0, 0, 0, 0, 0, 0, 0, 1, 0, 0, 0, 0, 0, 0, 0, 0, 0, 0, 0, 0, 0, 0, 0, 0, 0, 0, 0, ...]  [0, 0, 0, 0, 0, 0, 0, 0, 0, 0, 0, 0, 0, 0, 0, 0, 0, 0, 0, 0, 0, 0, 0, 0, 0, 0, 0, 0, 0, 0, 0, 0, 1, 1, 0, 0, 1, 0, 0, 0, 0, 0, 0, 0, 0, 0, 0, 0, 0, 0, 0, 1, 0, 0, 0, 1, 0, 1, 1, 1, 1, 1, 0, 0, 1, 0, 0, 1, 0, 1, 0, 0, 1, 1, 0, 0, 0, 0, 0, 0, 0, 1, 1, 1, 0, 0, 0, 0, 1, 0, 0, 0, 1, 0, 1, 1, 1, 0, 0, 0, ...]  ACTIVE\n",
       "SBSM19046                       S(=O)(=O)(NC1(=NC(=CC=N1)C))C3(=CC=C(NC(=O)CC=2(SC=CC=2))C=C3)  [0, 0, 0, 0, 1, 0, 0, 0, 0, 0, 0, 0, 0, 0, 1, 0, 0, 0, 0, 0, 0, 0, 0, 0, 0, 0, 0, 0, 0, 0, 0, 0, 0, 0, 0, 0, 0, 0, 0, 0, 0, 1, 0, 0, 0, 0, 0, 0, 0, 0, 0, 0, 0, 0, 0, 0, 0, 0, 0, 0, 0, 0, 0, 0, 0, 0, 0, 0, 0, 0, 0, 0, 0, 0, 0, 0, 0, 0, 0, 0, 1, 0, 0, 0, 0, 0, 0, 0, 0, 0, 0, 0, 0, 0, 0, 0, 0, 0, 0, 0, ...]  [0, 0, 0, 0, 0, 0, 0, 0, 0, 0, 0, 0, 0, 0, 0, 0, 0, 0, 0, 0, 0, 0, 0, 0, 0, 1, 0, 0, 0, 0, 0, 0, 1, 1, 0, 0, 1, 0, 0, 0, 0, 0, 0, 0, 0, 0, 0, 0, 0, 0, 0, 1, 0, 0, 0, 1, 0, 0, 1, 1, 1, 1, 0, 0, 1, 1, 0, 1, 0, 1, 0, 0, 0, 1, 0, 0, 0, 1, 0, 0, 1, 1, 0, 1, 0, 0, 0, 0, 1, 0, 0, 0, 1, 0, 1, 0, 1, 1, 1, 0, ...]  ACTIVE"
      ]
     },
     "execution_count": 10,
     "metadata": {},
     "output_type": "execute_result"
    }
   ],
   "source": [
    "# Loading a dataset with default parameters\n",
    "Dataset = LoadDatasetFromCSV(\"DNMT1.csv\")\n",
    "# Showing the first 5 entries\n",
    "Dataset.head(5)"
   ]
  },
  {
   "cell_type": "code",
   "execution_count": 17,
   "metadata": {},
   "outputs": [
    {
     "name": "stdout",
     "output_type": "stream",
     "text": [
      "Dataset_DFP_MACCS: 00000000000000000000000000000000000000000000000000000000000000100000000000000000100101001000100111000100010000110000010011110101000111011101101111101011111111111111110\n"
     ]
    }
   ],
   "source": [
    "# Calculating DFP/MACCS for the generated dataframe\n",
    "Dataset_DFP_MACCS = DFP_Calc(Dataset,FP=\"MACCS\",FORMAT=\"TEXT\")\n",
    "# Showing the DFP\n",
    "print (\"Dataset_DFP_MACCS: \"+Dataset_DFP_MACCS)"
   ]
  },
  {
   "cell_type": "code",
   "execution_count": 16,
   "metadata": {},
   "outputs": [
    {
     "name": "stdout",
     "output_type": "stream",
     "text": [
      "Dataset_SBDFP_ECFP4: 00001100000000000000000001000001000000000000000000000000000000000001000000010000000000000001000101000101001000001000100001000000100000000111000001000000000000010000000100000000000000001000000100100010001000001100000000010000000000000100000000000000000100001000000000000010010000000100000001000000000000000000010000100011000000110000000000001000000000100010000000100000000000000000001000000100000000000000000000000010001000000001010010000000000000000000001010100000000000100010000100000000010000000000001000000100000110000100000000010010000000100000000001000000000010000000000011000000000010000000000000100000001100100000100000001000000011000010000000100000100000000000000000000001000000000000001000001001000010000001100000000110100000001000000100000000010000000000000000010000000000000011000000000001000000010010000000000000000000000000001000001000000000000000000110001000000100110000000000000000100000000000010000100000000010000010100010001000000000010100000001100010000000000000100010000001000000100101000000000000010001100000000001000100000001010100000000010000000001000000001100000000100000010101000100000000000001010010000000000001001000100000000000000100100000010001000010000110000000000001000000000000011000000000000100000000010000000000000101000100010000000000101000000100000000010000000001000000001010000000000000000000000001000100000000000000000001000000001000000001000000000100000000000000000000010000100000000000011100011000100100000001000000000101000010000100000110000010000100000000000111000000000011000001000100000000000000000001000000000000000010010000000011100000000000000000000000000010000100001001000000001000000000010000000000000000000001000000001000001110000000000010000000001100010000000000000001000000100000000000010000000000000000010001000010000010000001000000001000100010000000000100011000100100010001010001000000000000100001000000100001000101000000000000000000010000000000000000001000000000010101001110000000000100000000000000000000001001100100000000010001011001000110000101000000000000000000000010000010000100000000001000\n"
     ]
    }
   ],
   "source": [
    "# Calculating SB-DFP/ECFP4 for the generated dataframe\n",
    "Dataset_SBDFP_ECFP4 = SBDFP_Calc(Dataset,FP=\"ECFP4\",FORMAT=\"TEXT\")\n",
    "# Showing the SB-DFP\n",
    "print (\"Dataset_SBDFP_ECFP4: \"+Dataset_SBDFP_ECFP4)"
   ]
  }
 ],
 "metadata": {
  "kernelspec": {
   "display_name": "Python 3",
   "language": "python",
   "name": "python3"
  },
  "language_info": {
   "codemirror_mode": {
    "name": "ipython",
    "version": 3
   },
   "file_extension": ".py",
   "mimetype": "text/x-python",
   "name": "python",
   "nbconvert_exporter": "python",
   "pygments_lexer": "ipython3",
   "version": "3.6.5"
  }
 },
 "nbformat": 4,
 "nbformat_minor": 2
}
